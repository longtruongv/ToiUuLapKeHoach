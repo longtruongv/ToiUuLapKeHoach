{
 "cells": [
  {
   "attachments": {},
   "cell_type": "markdown",
   "metadata": {},
   "source": [
    "# ĐỀ BÀI\n",
    "<br> Có 𝑁 lớp 1,2, … , 𝑁 cần được xếp thời khóa biểu. Mỗi lớp 𝑖 có 𝑡(𝑖) là số tiết và 𝑔(𝑖) là giáo viên đã được phân công dạy lớp đó và 𝑠(𝑖) là số sinh viên của lớp. Có 𝑀 phòng học 1, 2, … , 𝑀, trong đó 𝑐(𝑖) là số chỗ ngồi của phòng 𝑖. Trong tuần có 5 ngày (từ thứ 2 đến thứ 5), mỗi ngày chia thành 12 tiết (6 tiết sáng và 6 tiết chiều). Các tiết của các ngày được đánh số lần lượt từ 1 đến 60.\n",
    "\n",
    "<br> Hãy lập thời khóa biểu (xác định ngày, tiết và phòng gán cho mỗi lớp):\n",
    "- Hai lớp có chung giáo viên thì phải xếp thời khóa biểu tách rời nhau \n",
    "- Số sinh viên trong mỗi lớp phải nhỏ hơn hoặc bằng số chỗ ngồi của phòng học\n",
    "- Một môn học chỉ trong một buổi (sáng hoặc chiều một ngày nào đó)\n",
    "\n",
    "<br> Mục tiêu: Số lớp được xếp thời khóa biểu là lớn nhất"
   ]
  },
  {
   "attachments": {},
   "cell_type": "markdown",
   "metadata": {},
   "source": [
    "# INPUT\n",
    "<br> Line 1: ghi 𝑁 và 𝑀 (1 ≤ 𝑁 ≤ 1000, 1 ≤ 𝑀 ≤ 100)\n",
    "<br> Line 𝑖 + 1 (𝑖 = 1, … , 𝑁): ghi 𝑡(𝑖), 𝑔(𝑖) và 𝑠(𝑖) (1 ≤ 𝑡(𝑖) ≤ 4, 1 ≤ 𝑔(𝑖) ≤ 100, 1 ≤ 𝑠(𝑖) ≤ 200)\n",
    "<br> Line 𝑁 + 2: ghi 𝑐(1), 𝑐(2), … , 𝑐(𝑀) (1 ≤ 𝑐(𝑖) ≤ 300)\n"
   ]
  },
  {
   "cell_type": "code",
   "execution_count": 1,
   "metadata": {},
   "outputs": [],
   "source": [
    "INPUT_FILE_PATH = './data/input2.txt'\n",
    "MAX_VALUE = 99999999\n",
    "\n",
    "N, M = 0, 0\n",
    "t, g, s, c = [], [], [], []\n",
    "\n",
    "def read_input(file_name):\n",
    "    global N, M, t, g, s, c\n",
    "\n",
    "    with open(file_name) as file:\n",
    "        lines = [line.rstrip() for line in file]\n",
    "\n",
    "    N, M = tuple(int(x) for x in lines[0].split())\n",
    "\n",
    "    for i in range(N):\n",
    "        num_periods, teacher, num_pupils = tuple(int(x) for x in lines[i+1].split())\n",
    "        t.append(num_periods)\n",
    "        g.append(teacher)\n",
    "        s.append(num_pupils)\n",
    "\n",
    "    c = [int(x) for x in lines[-1].split()]\n",
    "\n",
    "    if len(t) != N or len(g) != N or len(s) != N or len(c) != M:\n",
    "        raise Exception('Error when reading data!')\n",
    "\n",
    "read_input(INPUT_FILE_PATH)"
   ]
  },
  {
   "cell_type": "code",
   "execution_count": 2,
   "metadata": {},
   "outputs": [
    {
     "data": {
      "text/plain": [
       "(10,\n",
       " 2,\n",
       " [4, 4, 4, 2, 4, 3, 2, 3, 4, 3],\n",
       " [1, 1, 1, 2, 2, 1, 2, 2, 1, 1],\n",
       " [15, 18, 15, 18, 11, 15, 27, 18, 13, 10],\n",
       " [20, 20])"
      ]
     },
     "execution_count": 2,
     "metadata": {},
     "output_type": "execute_result"
    }
   ],
   "source": [
    "N, M, t, g, s, c"
   ]
  },
  {
   "attachments": {},
   "cell_type": "markdown",
   "metadata": {},
   "source": [
    "# MODEL"
   ]
  },
  {
   "cell_type": "code",
   "execution_count": 3,
   "metadata": {},
   "outputs": [],
   "source": [
    "from ortools.linear_solver import pywraplp\n",
    "\n",
    "solver = pywraplp.Solver.CreateSolver('SCIP')"
   ]
  },
  {
   "attachments": {},
   "cell_type": "markdown",
   "metadata": {},
   "source": [
    "## VARIABLES & DOMAINS\n",
    "<br> Với ***i*** là các giá trị chỉ số của lớp thuộc *{0, ..., N-1}*:\n",
    "\n",
    "- Biến ***class_is_chosen[i]***: Lớp có được xếp hay không\n",
    "<br> Biến bằng 1 nếu được xếp, bằng 0 nếu bỏ\n",
    "<br> *D(class_is_chosen[i]) = {0, 1}*\n",
    "\n",
    "- Biến ***class_half_day[i]***: Buổi học\n",
    "<br> Từ thứ Hai đến thứ Sáu, mỗi ngày 2 buổi (sáng và chiều), tổng cộng 10 buổi\n",
    "<br> Biến lưu giá trị chỉ số buổi (một trong 10 buổi)\n",
    "<br> *D(class_half_day[i]) = {0, ..., 9}*\n",
    "\n",
    "- Biến ***class_starting[i]***: Tiết học bắt đầu (trong buổi)\n",
    "<br> Mỗi buổi học sẽ gồm có 6 tiết\n",
    "<br> Biến lưu giá trị chỉ số tiết (một trong 6 tiết)\n",
    "<br> *D(class_starting[i]) = {0, ..., 5}*\n",
    "\n",
    "- Biến ***class_room[i]***: Phòng học\n",
    "<br> Biến lưu giá trị chỉ số phòng (một trong *M* phòng), hoặc bằng -1 nếu không được xếp phòng\n",
    "<br> *D(class_room[i]) = {-1, 0, ..., M-1}*\n",
    "\n",
    "- Biến ***class_room_onehot[i]***: Phòng học dạng vector one-hot\n",
    "<br> Các tập (*t, g, s*) ta dùng *i* làm chỉ số mảng, tập c ta lấy giá trị như sau: *c[ class_room[i] ]*\n",
    "<br> Vì model không cho dùng biến làm chỉ số mảng, nên dùng biến này để lấy dữ liệu từ tập c\n",
    "<br> Biến sẽ là một vector one-hot, kích thước M, giá trị thứ *j* bằng *1* nếu xếp phòng *j*, bằng *0* nếu bỏ\n",
    "<br> *D(class_room_onehot[i,j]) = {0, 1}*"
   ]
  },
  {
   "cell_type": "code",
   "execution_count": 4,
   "metadata": {},
   "outputs": [],
   "source": [
    "#########################\n",
    "## VARIABLES & DOMAINS ##\n",
    "#########################\n",
    "\n",
    "class_is_chosen = [] # Lớp có được xếp hay không\n",
    "class_half_day = [] # Buổi học\n",
    "class_starting = [] # Tiết học bắt đầu (trong buổi)\n",
    "class_room = [] # Phòng học\n",
    "class_room_onehot = [] # Phòng học dạng vector one-hot\n",
    "\n",
    "for i in range(N):\n",
    "    class_is_chosen.append(solver.BoolVar(f'class_is_chosen[{i}]'))\n",
    "    class_half_day.append(solver.IntVar(0, 9, f'class_half_day[{i}]'))\n",
    "    class_starting.append(solver.IntVar(0, 5, f'class_starting[{i}]'))\n",
    "\n",
    "    class_room.append(solver.IntVar(-1, M-1, f'class_room[{i}]'))\n",
    "    class_room_onehot.append([\n",
    "        solver.BoolVar(name=f'class_room_onehot[{i},{j}]')\n",
    "        for j in range(M)\n",
    "    ])"
   ]
  },
  {
   "attachments": {},
   "cell_type": "markdown",
   "metadata": {},
   "source": [
    "## CONSTRAINTS 1\n",
    "<br> Các ràng buộc cho mỗi lớp riêng biệt:\n",
    "\n",
    "- **Ràng buộc 1**: Mỗi lớp được xếp sẽ chiếm 1 phòng duy nhất\n",
    "<br> Tổng của vector *class_room_onehot[i]* bằng 1 nếu lớp *i* được xếp, bằng 0 nếu lớp bỏ\n",
    "\n",
    "- **Ràng buộc 2**: Đồng bộ giữa biến phòng học dạng số và dạng vector one-hot\n",
    "<br> Nếu lớp *i* được chọn, chỉ số phòng *j* bằng 1 trong *class_room_onehot[i]*, giá trị *class_room[i]* bằng *j*\n",
    "<br> Nếu lớp *i* bỏ, giá trị *class_room[i]* bằng -1\n",
    "\n",
    "- **Ràng buộc 3**: Mỗi lớp được xếp có kích thước phòng chứa đủ sĩ số lớp \n",
    "<br> Nếu lớp *i* được chọn, kích thước phòng được xếp lớn hơn hoặc bằng sĩ số lớp\n",
    "\n",
    "- **Ràng buộc 4**: Lớp học giới hạn trong một buổi\n",
    "<br> Nếu lớp *i* được chọn, tiết kết thúc không được quá tiết thứ 6 trong buổi"
   ]
  },
  {
   "cell_type": "code",
   "execution_count": 5,
   "metadata": {},
   "outputs": [],
   "source": [
    "###################\n",
    "## CONSTRAINTS 1 ##\n",
    "###################\n",
    "\n",
    "for i in range(N):\n",
    "    ## CONSTRAINT ##\n",
    "    # Mỗi lớp được xếp sẽ chiếm 1 phòng duy nhất\n",
    "    solver.Add(\n",
    "        sum(class_room_onehot[i]) == class_is_chosen[i]\n",
    "    )\n",
    "\n",
    "    ## CONSTRAINT ##\n",
    "    # Đồng bộ giữa biến phòng học dạng số và dạng vector one-hot\n",
    "    solver.Add(\n",
    "        sum([j * class_room_onehot[i][j] for j in range(M)]) - (1 - class_is_chosen[i]) == class_room[i]\n",
    "    )\n",
    "\n",
    "    ## CONSTRAINT ##\n",
    "    # Mỗi lớp được xếp có kích thước phòng chứa đủ sĩ số lớp \n",
    "    solver.Add(\n",
    "        sum(c[j] * class_room_onehot[i][j] for j in range(M)) >= class_is_chosen[i] * s[i]\n",
    "    )\n",
    "\n",
    "    ## CONSTRAINT ##\n",
    "    # Lớp học giới hạn trong một buổi\n",
    "    solver.Add(\n",
    "        class_starting[i] + t[i] * class_is_chosen[i] <= 6\n",
    "    )"
   ]
  },
  {
   "attachments": {},
   "cell_type": "markdown",
   "metadata": {},
   "source": [
    "## CONSTRAINTS 2\n",
    "\n",
    "<br> Các ràng buộc cho mối quan hệ 2 lớp với nhau\n",
    "<br> Xét với lớp *i* và lớp *j* khác nhau:\n",
    "\n",
    "<br> Biến *is_i_not_overlap_j*: coi như được xếp cùng một buổi, lớp *i* và lớp *j* có không chồng giờ nhau hay không\n",
    "<br> *is_i_not_overlap_j* = (*i* kết thúc trước *j* bắt đầu) *OR* (*j* kết thúc trước *i* bắt đầu)\n",
    "\n",
    "<br> Biến *is_i_diff_half_day_j*: lớp *i* và lớp *j* có khác buổi nhau hay không\n",
    "<br> *is_i_diff_half_day_j* = (buổi của *i*) $\\ne$ (buổi của *j*)\n",
    "\n",
    "<br> Biến *is_i_not_overlap_j_truly*: lớp *i* và lớp *j* có khác buổi hoặc cùng buổi nhưng không chồng giờ nhau hay không\n",
    "<br> *is_i_not_overlap_j_truly* = *is_i_diff_half_day_j* *OR* *is_i_not_overlap_j*\n",
    "\n",
    "<br> Biến *is_i_and_j_chosen*: lớp *i* và lớp *j* có cùng được xếp lịch hay không\n",
    "<br> *is_i_and_j_chosen* = (lớp *i* được xếp) *AND* (lớp *j* được xếp)\n",
    "\n",
    "<br> Biến *is_i_same_room_j*: lớp *i* và lớp *j* có chung phòng hay không\n",
    "<br> *is_i_same_room_j* = (phòng của i) *bằng* (phòng của j)\n",
    "\n",
    "- **Ràng buộc 5**: Nếu lớp được xếp và chung giáo viên, các lớp không được xếp chồng giờ nhau\n",
    "<br> *if* *is_i_and_j_chosen* *AND* (*i* và *j* chung giáo viên): *is_i_not_overlap_j_truly* = 1\n",
    "\n",
    "- **Ràng buộc 6**: Nếu lớp được xếp và xếp chung phòng, các lớp không được xếp chồng giờ nhau\n",
    "<br> *if* *is_i_and_j_chosen* *AND* *is_i_same_room_j*: *is_i_not_overlap_j_truly* = 1"
   ]
  },
  {
   "cell_type": "code",
   "execution_count": 6,
   "metadata": {},
   "outputs": [
    {
     "name": "stdout",
     "output_type": "stream",
     "text": [
      "Number of constraints: 2872\n"
     ]
    }
   ],
   "source": [
    "###################\n",
    "## CONSTRAINTS 2 ##\n",
    "###################\n",
    "\n",
    "for i in range(N):\n",
    "    for j in range(N):\n",
    "        if i == j:\n",
    "            continue\n",
    "\n",
    "\n",
    "        # Biến is_i_not_overlap_j: lớp i không bị chồng giờ với lớp j hay không (coi như chung một buổi), D = {0, 1}\n",
    "        # Biến thể Công thức Bằng\n",
    "        is_i_not_overlap_j = solver.BoolVar(f'is_i_not_overlap_j[{i},{j}]')\n",
    "        is_i_before_j = solver.BoolVar(f'is_i_before_j[{i},{j}]')\n",
    "        is_i_after_j = solver.BoolVar(f'is_i_after_j[{i},{j}]')\n",
    "        solver.Add((is_i_before_j - 1) * MAX_VALUE <= class_starting[j] - class_starting[i] - t[i])\n",
    "        solver.Add(class_starting[j] - class_starting[i] - t[i] <= MAX_VALUE * is_i_before_j - 1)\n",
    "        solver.Add((is_i_after_j - 1) * MAX_VALUE <= class_starting[i] - class_starting[j] - t[j])\n",
    "        solver.Add(class_starting[i] - class_starting[j] - t[j] <= MAX_VALUE * is_i_after_j - 1)\n",
    "        solver.Add(is_i_not_overlap_j >= is_i_before_j)\n",
    "        solver.Add(is_i_not_overlap_j >= is_i_after_j)\n",
    "        solver.Add(is_i_not_overlap_j <= is_i_before_j + is_i_after_j)\n",
    "\n",
    "        # Biến is_i_diff_half_day_j: lớp i và j có khác buổi hay không, D = {0, 1}\n",
    "        # Công thức Không Bằng \n",
    "        is_i_diff_half_day_j = solver.BoolVar(f'is_i_diff_half_day_j[{i},{j}]')\n",
    "        is_i_half_day_before_j = solver.BoolVar(f'is_i_half_day_before_j[{i},{j}]')\n",
    "        is_i_half_day_after_j = solver.BoolVar(f'is_i_half_day_after_j[{i},{j}]')\n",
    "        solver.Add((is_i_half_day_before_j - 1) * MAX_VALUE <= class_half_day[j] - class_half_day[i] - 1)\n",
    "        solver.Add(class_half_day[j] - class_half_day[i] - 1 <= is_i_half_day_before_j * MAX_VALUE - 1)\n",
    "        solver.Add((is_i_half_day_after_j - 1) * MAX_VALUE <= class_half_day[i] - class_half_day[j] - 1)\n",
    "        solver.Add(class_half_day[i] - class_half_day[j] - 1 <= is_i_half_day_after_j * MAX_VALUE - 1)\n",
    "        solver.Add(is_i_diff_half_day_j >= is_i_half_day_before_j)\n",
    "        solver.Add(is_i_diff_half_day_j >= is_i_half_day_after_j)\n",
    "        solver.Add(is_i_diff_half_day_j <= is_i_half_day_before_j + is_i_half_day_after_j)\n",
    "\n",
    "        # Biến is_i_not_overlap_j_truly: lớp i không bị chồng giờ với lớp j hay không (có xét đến khác buổi), D = {0, 1}\n",
    "        # is_i_not_overlap_j_truly = is_i_diff_half_day_j OR is_i_not_overlap_j (Công thức OR)\n",
    "        is_i_not_overlap_j_truly = solver.BoolVar(f'is_i_not_overlap_j_truly[{i},{j}]')\n",
    "        solver.Add(is_i_not_overlap_j_truly >= is_i_diff_half_day_j)\n",
    "        solver.Add(is_i_not_overlap_j_truly >= is_i_not_overlap_j)\n",
    "        solver.Add(is_i_not_overlap_j_truly <= is_i_diff_half_day_j + is_i_not_overlap_j)\n",
    "\n",
    "\n",
    "        # Biến is_i_and_j_chosen: Cả lớp i và lớp j cùng được xếp hay không, D = {0, 1}\n",
    "        # Công thức AND\n",
    "        is_i_and_j_chosen = solver.BoolVar(f'is_i_and_j_chosen[{i},{j}]')\n",
    "        solver.Add(is_i_and_j_chosen <= class_is_chosen[i])\n",
    "        solver.Add(is_i_and_j_chosen <= class_is_chosen[j])\n",
    "        solver.Add(is_i_and_j_chosen >= class_is_chosen[i] + class_is_chosen[j] - 1)\n",
    "\n",
    "        # Biến is_i_same_room_j: Nếu lớp i và lớp j chung phòng\n",
    "        # Công thức Bằng\n",
    "        is_i_same_room_j = solver.BoolVar(f'is_i_same_room_j[{i},{j}]')\n",
    "        is_i_room_idx_before_j = solver.BoolVar(f'is_i_room_idx_before_j[{i},{j}]')\n",
    "        is_i_room_idx_after_j = solver.BoolVar(f'is_i_room_idx_after_j[{i},{j}]')\n",
    "        solver.Add((is_i_room_idx_before_j - 1) * MAX_VALUE <= class_room[j] - class_room[i] - 1)\n",
    "        solver.Add(class_room[j] - class_room[i] - 1 <= is_i_room_idx_before_j * MAX_VALUE - 1)\n",
    "        solver.Add((is_i_room_idx_after_j - 1) * MAX_VALUE <= class_room[i] - class_room[j] - 1)\n",
    "        solver.Add(class_room[i] - class_room[j] - 1 <= is_i_room_idx_after_j * MAX_VALUE - 1)\n",
    "        solver.Add(1 - is_i_same_room_j >= is_i_room_idx_before_j)\n",
    "        solver.Add(1 - is_i_same_room_j >= is_i_room_idx_after_j)\n",
    "        solver.Add(1 - is_i_same_room_j <= is_i_room_idx_before_j + is_i_room_idx_after_j)\n",
    "\n",
    "        # Biến is_i_same_room_j_and_chosen: Nếu lớp i và lớp j cùng được xếp và xếp chung phòng\n",
    "        # is_i_same_room_j_and_chosen = is_i_same_room_j AND is_i_and_j_chosen (Công thức AND)\n",
    "        is_i_same_room_j_and_chosen = solver.BoolVar(f'is_i_same_room_j_and_chosen[{i},{j}]')\n",
    "        solver.Add(is_i_same_room_j_and_chosen <= is_i_same_room_j)\n",
    "        solver.Add(is_i_same_room_j_and_chosen <= is_i_and_j_chosen)\n",
    "        solver.Add(is_i_same_room_j_and_chosen >= is_i_same_room_j + is_i_and_j_chosen - 1)\n",
    "\n",
    "\n",
    "        ## CONSTRAINT ##\n",
    "        # Nếu lớp được xếp và chung giáo viên, các lớp không được xếp chồng giờ nhau\n",
    "        if g[i] == g[j]:\n",
    "            solver.Add(is_i_not_overlap_j_truly >= is_i_and_j_chosen)\n",
    "        \n",
    "\n",
    "        ## CONSTRAINT ##\n",
    "        # Nếu lớp được xếp và xếp chung phòng, các lớp không được xếp chồng giờ nhau\n",
    "        solver.Add(is_i_not_overlap_j_truly >= is_i_same_room_j_and_chosen)\n",
    "\n",
    "\n",
    "print('Number of constraints:', solver.NumConstraints())"
   ]
  },
  {
   "attachments": {},
   "cell_type": "markdown",
   "metadata": {},
   "source": [
    "# OBJECTIVES\n",
    "- Tối đa số lượng lớp được chọn\n",
    "<br> Tổng *class_is_chosen[i]* với *i* thuộc *{1, ..., N}* là lớn nhất"
   ]
  },
  {
   "cell_type": "code",
   "execution_count": 7,
   "metadata": {},
   "outputs": [],
   "source": [
    "################\n",
    "## OBJECTIVES ##\n",
    "################\n",
    "\n",
    "# Tối đa số lượng lớp được chọn\n",
    "solver.Maximize(sum(class_is_chosen))"
   ]
  },
  {
   "attachments": {},
   "cell_type": "markdown",
   "metadata": {},
   "source": [
    "# OUTPUT\n",
    "\n",
    "<br> Line 1: contains a positive integer 𝑄\n",
    "<br> Line 𝑞 + 1 (𝑞 = 1, 2, . . . ,𝑄): contains 3 positive integers 𝑖, 𝑢, and 𝑣 in which class i is assigned to slot u and room u\n"
   ]
  },
  {
   "cell_type": "code",
   "execution_count": 8,
   "metadata": {},
   "outputs": [],
   "source": [
    "status = solver.Solve()\n",
    "solution = {}\n",
    "\n",
    "if status == pywraplp.Solver.OPTIMAL:\n",
    "    for idx, val in enumerate(class_is_chosen):\n",
    "        if val.solution_value():\n",
    "            solution[idx + 1] = {\n",
    "                'starting': int(\n",
    "                    class_half_day[idx].solution_value() * 6 + class_starting[idx].solution_value() + 1\n",
    "                ),\n",
    "                'room': int(class_room[idx].solution_value() + 1),\n",
    "            }\n",
    "            \n",
    "else:\n",
    "    print('No solution found.')"
   ]
  },
  {
   "cell_type": "code",
   "execution_count": 9,
   "metadata": {},
   "outputs": [
    {
     "name": "stdout",
     "output_type": "stream",
     "text": [
      "9\n",
      "1 3 1\n",
      "2 9 1\n",
      "3 15 1\n",
      "4 13 1\n",
      "5 3 2\n",
      "6 28 1\n",
      "8 19 2\n",
      "9 33 1\n",
      "10 22 1\n"
     ]
    }
   ],
   "source": [
    "print(len(solution))\n",
    "for i in solution:\n",
    "    starting = solution[i]['starting']\n",
    "    room = solution[i]['room']\n",
    "    print(f'{i} {starting} {room}')"
   ]
  },
  {
   "attachments": {},
   "cell_type": "markdown",
   "metadata": {},
   "source": [
    "# Các phương pháp mô hình hóa về dạng tuyến tính"
   ]
  },
  {
   "attachments": {},
   "cell_type": "markdown",
   "metadata": {},
   "source": [
    "Mô hình hóa toán tử ***and***, ***or*** và ***not***:\n",
    "<br> x, y và z là giá trị nhị phân {0, 1}\n",
    "\n",
    "<br> (CT AND) với: z = x *and* y\n",
    "<br> tương đương:\n",
    "<br>&emsp; z $\\le$ x\n",
    "<br>&emsp; z $\\le$ y\n",
    "<br>&emsp; z $\\ge$ x + y - 1\n",
    "\n",
    "<br> (CT OR) với: z = x *or* y\n",
    "<br> tương đương:\n",
    "<br>&emsp; z $\\ge$ x\n",
    "<br>&emsp; z $\\ge$ y\n",
    "<br>&emsp; z $\\le$ x + y\n",
    "\n",
    "<br> (CT NOT) với: z = *not* x\n",
    "<br> tương đương: z = 1 - x"
   ]
  },
  {
   "attachments": {},
   "cell_type": "markdown",
   "metadata": {},
   "source": [
    "Mô hình hóa ***if***:\n",
    "<br>MAX là một số rất lớn, A và B là giá trị nguyên, x là giá trị nhị phân {0, 1}\n",
    "\n",
    "<br>(cái này chưa dùng tới) với: \n",
    "<br>&emsp; *if* A = 0: x = 0\n",
    "<br>&emsp; *else* A > 0: x = 1\n",
    "<br>tương đương: \n",
    "<br>&emsp; (1/MAX) * x $\\le$ A $\\le$ MAX * x\n",
    "\n",
    "<br>(CT Không Âm) với:\n",
    "<br>&emsp; *if* A $\\ge$ 0: x = 1\n",
    "<br>&emsp; *else* A < 0: x = 0\n",
    "<br>tương đương: \n",
    "<br>&emsp; (x - 1) * MAX $\\le$ A $\\le$ MAX * x - 1\n",
    "<br>(nếu muốn A dương thì A-1 không âm)\n",
    "\n",
    "<br>(CT Bằng) với:\n",
    "<br>&emsp; *if* A = B: x = 1 else x = 0\n",
    "<br>tương đương: \n",
    "<br>&emsp; temp1 = (A > B) = (A - B - 1 $\\ge$ 0) &emsp;(CT Không Âm)\n",
    "<br>&emsp; temp2 = (B > A) = (B - A - 1 $\\ge$ 0) &emsp;(CT Không Âm)\n",
    "<br>&emsp; x = *not* (temp1 *or* temp2) &emsp;(CT NOT và CT OR)\n",
    "<br>(bỏ *not* với trường hợp A $\\ne$ B)"
   ]
  }
 ],
 "metadata": {
  "kernelspec": {
   "display_name": "Python 3",
   "language": "python",
   "name": "python3"
  },
  "language_info": {
   "codemirror_mode": {
    "name": "ipython",
    "version": 3
   },
   "file_extension": ".py",
   "mimetype": "text/x-python",
   "name": "python",
   "nbconvert_exporter": "python",
   "pygments_lexer": "ipython3",
   "version": "3.9.13"
  },
  "orig_nbformat": 4
 },
 "nbformat": 4,
 "nbformat_minor": 2
}
