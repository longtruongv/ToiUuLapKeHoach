{
 "cells": [
  {
   "cell_type": "code",
   "execution_count": 24,
   "metadata": {},
   "outputs": [],
   "source": [
    "from ortools.sat.python import cp_model"
   ]
  },
  {
   "cell_type": "code",
   "execution_count": 25,
   "metadata": {},
   "outputs": [],
   "source": [
    "MAX_VALUE = 99999999\n",
    "\n",
    "N = 0\n",
    "M = 0\n",
    "classes = {}\n",
    "room_capacity = {}\n",
    "\n",
    "def read_input(file_name):\n",
    "    global N, M, classes, room_capacity\n",
    "\n",
    "    with open(file_name) as file:\n",
    "        lines = [line.rstrip() for line in file]\n",
    "\n",
    "    N, M = tuple(int(x) for x in lines[0].split())\n",
    "\n",
    "    for i in range(1, N+1):\n",
    "        num_periods, teacher, num_pupils = tuple(int(x) for x in lines[i].split())\n",
    "        classes[i] = {\n",
    "            'num_periods': num_periods,\n",
    "            'teacher': teacher,\n",
    "            'num_pupils': num_pupils,\n",
    "        }\n",
    "\n",
    "    room_capacity = {idx+1: int(x) for idx, x in enumerate(lines[-1].split())}\n",
    "\n",
    "    if len(classes) != N or len(room_capacity) != M:\n",
    "        raise Exception('Error when reading data!')\n",
    "\n",
    "read_input('./data/input0.txt')"
   ]
  },
  {
   "cell_type": "code",
   "execution_count": 26,
   "metadata": {},
   "outputs": [
    {
     "data": {
      "text/plain": [
       "{1: {'num_periods': 4, 'teacher': 1, 'num_pupils': 15},\n",
       " 2: {'num_periods': 4, 'teacher': 1, 'num_pupils': 18},\n",
       " 3: {'num_periods': 4, 'teacher': 1, 'num_pupils': 15},\n",
       " 4: {'num_periods': 2, 'teacher': 2, 'num_pupils': 18},\n",
       " 5: {'num_periods': 4, 'teacher': 2, 'num_pupils': 11},\n",
       " 6: {'num_periods': 3, 'teacher': 1, 'num_pupils': 15},\n",
       " 7: {'num_periods': 2, 'teacher': 2, 'num_pupils': 27},\n",
       " 8: {'num_periods': 3, 'teacher': 2, 'num_pupils': 18},\n",
       " 9: {'num_periods': 4, 'teacher': 1, 'num_pupils': 13},\n",
       " 10: {'num_periods': 3, 'teacher': 1, 'num_pupils': 10}}"
      ]
     },
     "execution_count": 26,
     "metadata": {},
     "output_type": "execute_result"
    }
   ],
   "source": [
    "classes"
   ]
  },
  {
   "cell_type": "code",
   "execution_count": 27,
   "metadata": {},
   "outputs": [
    {
     "data": {
      "text/plain": [
       "{1: 20, 2: 20}"
      ]
     },
     "execution_count": 27,
     "metadata": {},
     "output_type": "execute_result"
    }
   ],
   "source": [
    "room_capacity"
   ]
  },
  {
   "attachments": {},
   "cell_type": "markdown",
   "metadata": {},
   "source": [
    "# MODEL"
   ]
  },
  {
   "cell_type": "code",
   "execution_count": 28,
   "metadata": {},
   "outputs": [],
   "source": [
    "model = cp_model.CpModel()"
   ]
  },
  {
   "cell_type": "code",
   "execution_count": 29,
   "metadata": {},
   "outputs": [],
   "source": [
    "# VARIABLES & DOMAINS\n",
    "class_is_chosen = {} # Lớp có được xếp hay không, 1 nếu được xếp, 0 nếu bỏ\n",
    "class_session = {} # Buổi học, D = {1, ..., 10}\n",
    "class_starting = {} # Tiết học bắt đầu (trong buổi), D = {1, ..., 6}\n",
    "class_room = {} # Phòng học, D = {1, ..., M}\n",
    "\n",
    "for i in range(1, N + 1):\n",
    "    class_is_chosen[i] = model.NewBoolVar(f'class_is_chosen[{i}]')\n",
    "    class_session[i] = model.NewIntVar(1, 10, f'class_session[{i}]')\n",
    "    class_starting[i] = model.NewIntVar(1, 6, f'class_starting[{i}]')\n",
    "    class_room[i] = model.NewIntVar(1, M, f'clas_room[{i}]')"
   ]
  },
  {
   "cell_type": "code",
   "execution_count": 31,
   "metadata": {},
   "outputs": [],
   "source": [
    "# CONSTRAINTS\n",
    "\n",
    "for i in range(1, N + 1):\n",
    "\n",
    "    # Sĩ số lớp được chọn ít hơn kích thước phòng\n",
    "    temp_room_capacity = model.NewIntVar(0, MAX_VALUE, f'temp_room_capacity[{i}]')\n",
    "    model.AddElement(class_room[i], room_capacity, temp_room_capacity)\n",
    "    model.Add(\n",
    "        temp_room_capacity >= classes[i]['num_pupils']\n",
    "    ).OnlyEnforceIf(class_is_chosen[i])\n",
    "\n",
    "    # Lớp học giới hạn trong một buổi\n",
    "    model.Add(class_starting[i] + classes[i]['num_periods'] - 1 <= 6)\n",
    "\n",
    "for i in range(1, N + 1):\n",
    "    for j in range(1, N + 1):\n",
    "        if i == j:\n",
    "            continue\n",
    "\n",
    "        i_same_session_j = model.NewBoolVar(f'i_same_session_j[{i},{j}]')\n",
    "        model.Add(class_session[i] == class_session[j]).OnlyEnforceIf(i_same_session_j)\n",
    "        i_start_before_j = model.NewBoolVar(f'i_start_before_j[{i},{j}]')\n",
    "        model.Add(class_starting[i] <= class_starting[j]).OnlyEnforceIf(i_start_before_j)\n",
    "        i_end_after_j_start = model.NewBoolVar(f'i_end_after_j_start[{i},{j}]')\n",
    "        model.Add(class_starting[i] + classes[i]['num_periods'] - 1 >= class_starting[j]).OnlyEnforceIf(i_end_after_j_start)\n",
    "        i_overlapped_by_j = sum([i_same_session_j, i_start_before_j, i_end_after_j_start])\n",
    "\n",
    "        # Hai lớp cùng giáo viên không chồng lên nhau\n",
    "        if classes[i]['teacher'] == classes[j]['teacher']:\n",
    "            model.Add(\n",
    "                i_overlapped_by_j != 3\n",
    "            ).OnlyEnforceIf(\n",
    "                class_is_chosen[i] \n",
    "            ).OnlyEnforceIf(\n",
    "                class_is_chosen[j]\n",
    "            )\n",
    "\n",
    "        # Hai lớp xếp chồng giờ không cùng phòng\n",
    "        i_same_room_j = model.NewBoolVar(f'i_same_room_j[{i},{j}]')\n",
    "        model.Add(class_room[i] == class_room[j]).OnlyEnforceIf(i_same_room_j)\n",
    "\n",
    "        model.Add(\n",
    "            i_overlapped_by_j != 3\n",
    "        ).OnlyEnforceIf(\n",
    "            class_is_chosen[i] \n",
    "        ).OnlyEnforceIf(\n",
    "            class_is_chosen[j]\n",
    "        ).OnlyEnforceIf(\n",
    "            i_same_room_j\n",
    "        )"
   ]
  },
  {
   "cell_type": "code",
   "execution_count": 32,
   "metadata": {},
   "outputs": [],
   "source": [
    "# OBJECTIVES\n",
    "model.Maximize(\n",
    "    sum([class_is_chosen[i] for i in class_is_chosen])\n",
    ")"
   ]
  },
  {
   "cell_type": "code",
   "execution_count": 33,
   "metadata": {},
   "outputs": [],
   "source": [
    "solver = cp_model.CpSolver()\n",
    "status = solver.Solve(model)"
   ]
  },
  {
   "cell_type": "code",
   "execution_count": 34,
   "metadata": {},
   "outputs": [
    {
     "name": "stdout",
     "output_type": "stream",
     "text": [
      "0\n",
      "0\n",
      "0\n",
      "0\n",
      "0\n",
      "0\n",
      "0\n",
      "0\n",
      "0\n",
      "0\n"
     ]
    }
   ],
   "source": [
    "if status == cp_model.OPTIMAL or status == cp_model.FEASIBLE:\n",
    "    for i in class_is_chosen:\n",
    "        print(solver.Value(class_is_chosen[i]))\n",
    "else:\n",
    "    print('No solution found.')"
   ]
  }
 ],
 "metadata": {
  "kernelspec": {
   "display_name": "Python 3",
   "language": "python",
   "name": "python3"
  },
  "language_info": {
   "codemirror_mode": {
    "name": "ipython",
    "version": 3
   },
   "file_extension": ".py",
   "mimetype": "text/x-python",
   "name": "python",
   "nbconvert_exporter": "python",
   "pygments_lexer": "ipython3",
   "version": "3.9.13"
  },
  "orig_nbformat": 4
 },
 "nbformat": 4,
 "nbformat_minor": 2
}
