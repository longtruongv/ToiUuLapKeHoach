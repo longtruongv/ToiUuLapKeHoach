{
 "cells": [
  {
   "cell_type": "code",
   "execution_count": 1,
   "metadata": {},
   "outputs": [],
   "source": [
    "from ortools.sat.python import cp_model"
   ]
  },
  {
   "cell_type": "code",
   "execution_count": 4,
   "metadata": {},
   "outputs": [],
   "source": [
    "N = 0\n",
    "M = 0\n",
    "classes = []\n",
    "room_capacities = []\n",
    "\n",
    "def read_input(file_name):\n",
    "    global N, M, classes, room_capacities\n",
    "\n",
    "    with open(file_name) as file:\n",
    "        lines = [line.rstrip() for line in file]\n",
    "\n",
    "    N, M = tuple(int(x) for x in lines[0].split())\n",
    "\n",
    "    for i in range(N):\n",
    "        classes.append(tuple(int(x) for x in lines[i + 1].split()))\n",
    "\n",
    "    room_capacities = [int(x) for x in lines[-1].split()]"
   ]
  },
  {
   "cell_type": "code",
   "execution_count": 5,
   "metadata": {},
   "outputs": [],
   "source": [
    "read_input('./data/input0.txt')"
   ]
  },
  {
   "attachments": {},
   "cell_type": "markdown",
   "metadata": {},
   "source": [
    "# MODEL"
   ]
  },
  {
   "cell_type": "code",
   "execution_count": 6,
   "metadata": {},
   "outputs": [],
   "source": [
    "model = cp_model.CpModel()"
   ]
  },
  {
   "cell_type": "code",
   "execution_count": 17,
   "metadata": {},
   "outputs": [],
   "source": [
    "# VARIABLES & DOMAINS\n",
    "SP = []\n",
    "SP_isValid = []\n",
    "\n",
    "for i in range(N):\n",
    "    SP.append(model.NewIntVar(-1, 59, f'SP[{i}]'))\n",
    "    SP_isValid.append(model.NewBoolVar(f'SP_isValid[{i}]'))\n",
    "\n",
    "\n",
    "R = []\n",
    "R_isValid = []\n",
    "\n",
    "for i in range(N):\n",
    "    R.append(model.NewIntVar(-1, M, f'R[{i}]'))\n",
    "    R_isValid.append(model.NewBoolVar(f'R_isValid[{i}]'))\n"
   ]
  },
  {
   "cell_type": "code",
   "execution_count": 18,
   "metadata": {},
   "outputs": [
    {
     "ename": "TypeError",
     "evalue": "'BoundedLinearExpression' object is not iterable",
     "output_type": "error",
     "traceback": [
      "\u001b[1;31m---------------------------------------------------------------------------\u001b[0m",
      "\u001b[1;31mTypeError\u001b[0m                                 Traceback (most recent call last)",
      "\u001b[1;32mc:\\Users\\Long\\Desktop\\Tối ưu lập kế hoạch\\src\\constraint.ipynb Cell 7\u001b[0m in \u001b[0;36m<cell line: 23>\u001b[1;34m()\u001b[0m\n\u001b[0;32m     <a href='vscode-notebook-cell:/c%3A/Users/Long/Desktop/T%E1%BB%91i%20%C6%B0u%20l%E1%BA%ADp%20k%E1%BA%BF%20ho%E1%BA%A1ch/src/constraint.ipynb#X10sZmlsZQ%3D%3D?line=23'>24</a>\u001b[0m \u001b[39mfor\u001b[39;00m j \u001b[39min\u001b[39;00m \u001b[39mrange\u001b[39m(i\u001b[39m+\u001b[39m\u001b[39m1\u001b[39m, N):\n\u001b[0;32m     <a href='vscode-notebook-cell:/c%3A/Users/Long/Desktop/T%E1%BB%91i%20%C6%B0u%20l%E1%BA%ADp%20k%E1%BA%BF%20ho%E1%BA%A1ch/src/constraint.ipynb#X10sZmlsZQ%3D%3D?line=24'>25</a>\u001b[0m     \u001b[39mif\u001b[39;00m classes[i][\u001b[39m1\u001b[39m] \u001b[39m==\u001b[39m classes[j][\u001b[39m1\u001b[39m]:\n\u001b[1;32m---> <a href='vscode-notebook-cell:/c%3A/Users/Long/Desktop/T%E1%BB%91i%20%C6%B0u%20l%E1%BA%ADp%20k%E1%BA%BF%20ho%E1%BA%A1ch/src/constraint.ipynb#X10sZmlsZQ%3D%3D?line=25'>26</a>\u001b[0m         model\u001b[39m.\u001b[39;49mAdd(\n\u001b[0;32m     <a href='vscode-notebook-cell:/c%3A/Users/Long/Desktop/T%E1%BB%91i%20%C6%B0u%20l%E1%BA%ADp%20k%E1%BA%BF%20ho%E1%BA%A1ch/src/constraint.ipynb#X10sZmlsZQ%3D%3D?line=26'>27</a>\u001b[0m             SP[i] \u001b[39m-\u001b[39;49m SP[j] \u001b[39m>\u001b[39;49m classes[j][\u001b[39m0\u001b[39;49m]\n\u001b[0;32m     <a href='vscode-notebook-cell:/c%3A/Users/Long/Desktop/T%E1%BB%91i%20%C6%B0u%20l%E1%BA%ADp%20k%E1%BA%BF%20ho%E1%BA%A1ch/src/constraint.ipynb#X10sZmlsZQ%3D%3D?line=27'>28</a>\u001b[0m         )\u001b[39m.\u001b[39;49mOnlyEnforceIf(\n\u001b[0;32m     <a href='vscode-notebook-cell:/c%3A/Users/Long/Desktop/T%E1%BB%91i%20%C6%B0u%20l%E1%BA%ADp%20k%E1%BA%BF%20ho%E1%BA%A1ch/src/constraint.ipynb#X10sZmlsZQ%3D%3D?line=28'>29</a>\u001b[0m             SP[i] \u001b[39m>\u001b[39;49m \u001b[39m-\u001b[39;49m\u001b[39m1\u001b[39;49m\n\u001b[0;32m     <a href='vscode-notebook-cell:/c%3A/Users/Long/Desktop/T%E1%BB%91i%20%C6%B0u%20l%E1%BA%ADp%20k%E1%BA%BF%20ho%E1%BA%A1ch/src/constraint.ipynb#X10sZmlsZQ%3D%3D?line=29'>30</a>\u001b[0m         )\u001b[39m.\u001b[39mOnlyEnforceIf(\n\u001b[0;32m     <a href='vscode-notebook-cell:/c%3A/Users/Long/Desktop/T%E1%BB%91i%20%C6%B0u%20l%E1%BA%ADp%20k%E1%BA%BF%20ho%E1%BA%A1ch/src/constraint.ipynb#X10sZmlsZQ%3D%3D?line=30'>31</a>\u001b[0m             SP[j] \u001b[39m>\u001b[39m \u001b[39m-\u001b[39m\u001b[39m1\u001b[39m\n\u001b[0;32m     <a href='vscode-notebook-cell:/c%3A/Users/Long/Desktop/T%E1%BB%91i%20%C6%B0u%20l%E1%BA%ADp%20k%E1%BA%BF%20ho%E1%BA%A1ch/src/constraint.ipynb#X10sZmlsZQ%3D%3D?line=31'>32</a>\u001b[0m         )\u001b[39m.\u001b[39mOnlyEnforceIf(\n\u001b[0;32m     <a href='vscode-notebook-cell:/c%3A/Users/Long/Desktop/T%E1%BB%91i%20%C6%B0u%20l%E1%BA%ADp%20k%E1%BA%BF%20ho%E1%BA%A1ch/src/constraint.ipynb#X10sZmlsZQ%3D%3D?line=32'>33</a>\u001b[0m             SP[i] \u001b[39m-\u001b[39m SP[j] \u001b[39m>\u001b[39m\u001b[39m=\u001b[39m \u001b[39m0\u001b[39m\n\u001b[0;32m     <a href='vscode-notebook-cell:/c%3A/Users/Long/Desktop/T%E1%BB%91i%20%C6%B0u%20l%E1%BA%ADp%20k%E1%BA%BF%20ho%E1%BA%A1ch/src/constraint.ipynb#X10sZmlsZQ%3D%3D?line=33'>34</a>\u001b[0m         )\n",
      "File \u001b[1;32mc:\\Users\\Long\\AppData\\Local\\Programs\\Python\\Python39\\lib\\site-packages\\ortools\\sat\\python\\cp_model.py:816\u001b[0m, in \u001b[0;36mConstraint.OnlyEnforceIf\u001b[1;34m(self, *boolvar)\u001b[0m\n\u001b[0;32m    799\u001b[0m \u001b[39mdef\u001b[39;00m \u001b[39mOnlyEnforceIf\u001b[39m(\u001b[39mself\u001b[39m, \u001b[39m*\u001b[39mboolvar):\n\u001b[0;32m    800\u001b[0m     \u001b[39m\"\"\"Adds an enforcement literal to the constraint.\u001b[39;00m\n\u001b[0;32m    801\u001b[0m \n\u001b[0;32m    802\u001b[0m \u001b[39mThis method adds one or more literals (that is, a boolean variable or its\u001b[39;00m\n\u001b[1;32m   (...)\u001b[0m\n\u001b[0;32m    814\u001b[0m \u001b[39m  self.\u001b[39;00m\n\u001b[0;32m    815\u001b[0m \u001b[39m\"\"\"\u001b[39;00m\n\u001b[1;32m--> 816\u001b[0m     \u001b[39mfor\u001b[39;00m lit \u001b[39min\u001b[39;00m ExpandGeneratorOrTuple(boolvar):\n\u001b[0;32m    817\u001b[0m         \u001b[39mif\u001b[39;00m (\u001b[39misinstance\u001b[39m(lit, \u001b[39mbool\u001b[39m) \u001b[39mand\u001b[39;00m\n\u001b[0;32m    818\u001b[0m                 \u001b[39mbool\u001b[39m(lit)) \u001b[39mor\u001b[39;00m (cmh\u001b[39m.\u001b[39mis_integral(lit) \u001b[39mand\u001b[39;00m \u001b[39mint\u001b[39m(lit) \u001b[39m==\u001b[39m \u001b[39m1\u001b[39m):\n\u001b[0;32m    819\u001b[0m             \u001b[39m# Always true. Do nothing.\u001b[39;00m\n\u001b[0;32m    820\u001b[0m             \u001b[39mpass\u001b[39;00m\n",
      "\u001b[1;31mTypeError\u001b[0m: 'BoundedLinearExpression' object is not iterable"
     ]
    }
   ],
   "source": [
    "# CONSTRAINTS\n",
    "\n",
    "for i in range(N):\n",
    "    model.Add(\n",
    "        (SP[i] == -1) == (R[i] == -1)\n",
    "    )\n",
    "\n",
    "    model.AddLinearExpressionInDomain(\n",
    "        SP[i], \n",
    "        cp_model.Domain.FromIntervals([[0, 59]])\n",
    "    ).OnlyEnforceIf(\n",
    "        SP_isValid[i]\n",
    "    )\n",
    "\n",
    "# for i in range(N):\n",
    "#     model.Add(\n",
    "#         ( SP[i] + classes[i][0] > int(SP[i] / 6) * 6 + 6 ) \n",
    "#         if SP[i] != -1\n",
    "#     )\n",
    "\n",
    "\n",
    "\n",
    "for i in range(N):\n",
    "    for j in range(i+1, N):\n",
    "        if classes[i][1] == classes[j][1]:\n",
    "            model.Add(\n",
    "                SP[i] - SP[j] > classes[j][0]\n",
    "            ).OnlyEnforceIf(\n",
    "                SP[i] > -1\n",
    "            ).OnlyEnforceIf(\n",
    "                SP[j] > -1\n",
    "            ).OnlyEnforceIf(\n",
    "                SP[i] - SP[j] >= 0\n",
    "            )\n",
    "\n",
    "# for i in range(N):\n",
    "#     model.Add(\n",
    "#         (classes[i][2] <= room_capacities[R[i]])\n",
    "#         if R[i] != -1 else True\n",
    "#     )\n",
    "\n",
    "# for i in range(N):\n",
    "#     for j in range(i+1, N):\n",
    "#         model.Add(\n",
    "#             ( SP[i] > SP[j] + classes[j][0] )\n",
    "#             or ( SP[i] + classes[i][0] < SP[j] )\n",
    "\n",
    "#             if R[i] != -1 \n",
    "#             and R[j] != -1\n",
    "#             and R[i] == R[j]\n",
    "#             else True\n",
    "#         )"
   ]
  },
  {
   "cell_type": "code",
   "execution_count": 35,
   "metadata": {},
   "outputs": [
    {
     "ename": "TypeError",
     "evalue": "'BoundedLinearExpression' object is not iterable",
     "output_type": "error",
     "traceback": [
      "\u001b[1;31m---------------------------------------------------------------------------\u001b[0m",
      "\u001b[1;31mTypeError\u001b[0m                                 Traceback (most recent call last)",
      "\u001b[1;32mc:\\Users\\Long\\Desktop\\Tối ưu lập kế hoạch\\src\\constraint.ipynb Cell 8\u001b[0m in \u001b[0;36m<cell line: 1>\u001b[1;34m()\u001b[0m\n\u001b[0;32m      <a href='vscode-notebook-cell:/c%3A/Users/Long/Desktop/T%E1%BB%91i%20%C6%B0u%20l%E1%BA%ADp%20k%E1%BA%BF%20ho%E1%BA%A1ch/src/constraint.ipynb#X13sZmlsZQ%3D%3D?line=1'>2</a>\u001b[0m \u001b[39mfor\u001b[39;00m j \u001b[39min\u001b[39;00m \u001b[39mrange\u001b[39m(\u001b[39m1\u001b[39m, N\u001b[39m+\u001b[39m\u001b[39m1\u001b[39m):\n\u001b[0;32m      <a href='vscode-notebook-cell:/c%3A/Users/Long/Desktop/T%E1%BB%91i%20%C6%B0u%20l%E1%BA%ADp%20k%E1%BA%BF%20ho%E1%BA%A1ch/src/constraint.ipynb#X13sZmlsZQ%3D%3D?line=2'>3</a>\u001b[0m     \u001b[39mif\u001b[39;00m classes[i][\u001b[39m1\u001b[39m] \u001b[39m==\u001b[39m classes[j][\u001b[39m1\u001b[39m]:\n\u001b[1;32m----> <a href='vscode-notebook-cell:/c%3A/Users/Long/Desktop/T%E1%BB%91i%20%C6%B0u%20l%E1%BA%ADp%20k%E1%BA%BF%20ho%E1%BA%A1ch/src/constraint.ipynb#X13sZmlsZQ%3D%3D?line=3'>4</a>\u001b[0m         model\u001b[39m.\u001b[39;49mAdd(\n\u001b[0;32m      <a href='vscode-notebook-cell:/c%3A/Users/Long/Desktop/T%E1%BB%91i%20%C6%B0u%20l%E1%BA%ADp%20k%E1%BA%BF%20ho%E1%BA%A1ch/src/constraint.ipynb#X13sZmlsZQ%3D%3D?line=4'>5</a>\u001b[0m             SP[i] \u001b[39m-\u001b[39;49m SP[j] \u001b[39m>\u001b[39;49m\u001b[39m=\u001b[39;49m classes[j][\u001b[39m0\u001b[39;49m]\n\u001b[0;32m      <a href='vscode-notebook-cell:/c%3A/Users/Long/Desktop/T%E1%BB%91i%20%C6%B0u%20l%E1%BA%ADp%20k%E1%BA%BF%20ho%E1%BA%A1ch/src/constraint.ipynb#X13sZmlsZQ%3D%3D?line=5'>6</a>\u001b[0m         )\u001b[39m.\u001b[39;49mOnlyEnforceIf(\n\u001b[0;32m      <a href='vscode-notebook-cell:/c%3A/Users/Long/Desktop/T%E1%BB%91i%20%C6%B0u%20l%E1%BA%ADp%20k%E1%BA%BF%20ho%E1%BA%A1ch/src/constraint.ipynb#X13sZmlsZQ%3D%3D?line=6'>7</a>\u001b[0m             SP[i] \u001b[39m>\u001b[39;49m\u001b[39m=\u001b[39;49m SP[j]\n\u001b[0;32m      <a href='vscode-notebook-cell:/c%3A/Users/Long/Desktop/T%E1%BB%91i%20%C6%B0u%20l%E1%BA%ADp%20k%E1%BA%BF%20ho%E1%BA%A1ch/src/constraint.ipynb#X13sZmlsZQ%3D%3D?line=7'>8</a>\u001b[0m         )\n",
      "File \u001b[1;32mc:\\Users\\Long\\AppData\\Local\\Programs\\Python\\Python39\\lib\\site-packages\\ortools\\sat\\python\\cp_model.py:816\u001b[0m, in \u001b[0;36mConstraint.OnlyEnforceIf\u001b[1;34m(self, *boolvar)\u001b[0m\n\u001b[0;32m    799\u001b[0m \u001b[39mdef\u001b[39;00m \u001b[39mOnlyEnforceIf\u001b[39m(\u001b[39mself\u001b[39m, \u001b[39m*\u001b[39mboolvar):\n\u001b[0;32m    800\u001b[0m     \u001b[39m\"\"\"Adds an enforcement literal to the constraint.\u001b[39;00m\n\u001b[0;32m    801\u001b[0m \n\u001b[0;32m    802\u001b[0m \u001b[39mThis method adds one or more literals (that is, a boolean variable or its\u001b[39;00m\n\u001b[1;32m   (...)\u001b[0m\n\u001b[0;32m    814\u001b[0m \u001b[39m  self.\u001b[39;00m\n\u001b[0;32m    815\u001b[0m \u001b[39m\"\"\"\u001b[39;00m\n\u001b[1;32m--> 816\u001b[0m     \u001b[39mfor\u001b[39;00m lit \u001b[39min\u001b[39;00m ExpandGeneratorOrTuple(boolvar):\n\u001b[0;32m    817\u001b[0m         \u001b[39mif\u001b[39;00m (\u001b[39misinstance\u001b[39m(lit, \u001b[39mbool\u001b[39m) \u001b[39mand\u001b[39;00m\n\u001b[0;32m    818\u001b[0m                 \u001b[39mbool\u001b[39m(lit)) \u001b[39mor\u001b[39;00m (cmh\u001b[39m.\u001b[39mis_integral(lit) \u001b[39mand\u001b[39;00m \u001b[39mint\u001b[39m(lit) \u001b[39m==\u001b[39m \u001b[39m1\u001b[39m):\n\u001b[0;32m    819\u001b[0m             \u001b[39m# Always true. Do nothing.\u001b[39;00m\n\u001b[0;32m    820\u001b[0m             \u001b[39mpass\u001b[39;00m\n",
      "\u001b[1;31mTypeError\u001b[0m: 'BoundedLinearExpression' object is not iterable"
     ]
    }
   ],
   "source": [
    "for i in range(1, N+1):\n",
    "        for j in range(1, N+1):\n",
    "            if classes[i][1] == classes[j][1]:\n",
    "                model.Add(\n",
    "                    SP[i] - SP[j] >= classes[j][0]\n",
    "                ).OnlyEnforceIf(\n",
    "                    SP[i] >= SP[j]\n",
    "                )\n",
    "                # model.Add((SP[j] - SP[i] >= classes[i][0]) if SP[j]>=SP[i] else True)"
   ]
  },
  {
   "cell_type": "code",
   "execution_count": null,
   "metadata": {},
   "outputs": [],
   "source": [
    "# OBJECTIVES\n",
    "model.Maximize(\n",
    "    sum(map(lambda x: x >= 0, SP))\n",
    ")"
   ]
  },
  {
   "cell_type": "code",
   "execution_count": null,
   "metadata": {},
   "outputs": [],
   "source": [
    "solver = cp_model.CpSolver()\n",
    "solver.Solve(model)"
   ]
  }
 ],
 "metadata": {
  "kernelspec": {
   "display_name": "Python 3",
   "language": "python",
   "name": "python3"
  },
  "language_info": {
   "codemirror_mode": {
    "name": "ipython",
    "version": 3
   },
   "file_extension": ".py",
   "mimetype": "text/x-python",
   "name": "python",
   "nbconvert_exporter": "python",
   "pygments_lexer": "ipython3",
   "version": "3.9.13"
  },
  "orig_nbformat": 4
 },
 "nbformat": 4,
 "nbformat_minor": 2
}
